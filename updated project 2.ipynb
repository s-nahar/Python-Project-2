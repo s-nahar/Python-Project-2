{
 "cells": [
  {
   "cell_type": "code",
   "execution_count": 1,
   "id": "9344b153",
   "metadata": {},
   "outputs": [],
   "source": [
    "import pandas as pd\n",
    "import numpy as np"
   ]
  },
  {
   "cell_type": "code",
   "execution_count": 2,
   "id": "bc3122e2",
   "metadata": {},
   "outputs": [],
   "source": [
    "import sklearn\n",
    "from sklearn.model_selection import train_test_split"
   ]
  },
  {
   "cell_type": "code",
   "execution_count": 3,
   "id": "8d3ad358",
   "metadata": {},
   "outputs": [
    {
     "name": "stdout",
     "output_type": "stream",
     "text": [
      "<class 'pandas.core.frame.DataFrame'>\n",
      "RangeIndex: 203126 entries, 0 to 203125\n",
      "Data columns (total 12 columns):\n",
      " #   Column        Non-Null Count   Dtype  \n",
      "---  ------        --------------   -----  \n",
      " 0   status        203126 non-null  object \n",
      " 1   price         203126 non-null  float64\n",
      " 2   bed           171963 non-null  float64\n",
      " 3   bath          172835 non-null  float64\n",
      " 4   acre_lot      151066 non-null  float64\n",
      " 5   full_address  203126 non-null  object \n",
      " 6   street        203041 non-null  object \n",
      " 7   city          203074 non-null  object \n",
      " 8   state         203126 non-null  object \n",
      " 9   zip_code      202931 non-null  float64\n",
      " 10  house_size    173448 non-null  float64\n",
      " 11  sold_date     75339 non-null   object \n",
      "dtypes: float64(6), object(6)\n",
      "memory usage: 18.6+ MB\n"
     ]
    },
    {
     "data": {
      "text/plain": [
       "<bound method NDFrame.head of           status      price  bed  bath  acre_lot  \\\n",
       "0       for_sale   105000.0  3.0   2.0      0.12   \n",
       "1       for_sale    80000.0  4.0   2.0      0.08   \n",
       "2       for_sale    67000.0  2.0   1.0      0.15   \n",
       "3       for_sale   145000.0  4.0   2.0      0.10   \n",
       "4       for_sale    65000.0  6.0   2.0      0.05   \n",
       "...          ...        ...  ...   ...       ...   \n",
       "203121  for_sale  1995000.0  1.0   1.0      0.05   \n",
       "203122  for_sale  3495000.0  6.0   5.0      1.22   \n",
       "203123  for_sale  2400000.0  NaN   1.0      0.08   \n",
       "203124  for_sale  2999000.0  3.0   4.0      0.36   \n",
       "203125  for_sale  7800000.0  4.0   4.0      0.91   \n",
       "\n",
       "                                             full_address  \\\n",
       "0       Sector Yahuecas Titulo # V84, Adjuntas, PR, 00601   \n",
       "1                 Km 78 9 Carr # 135, Adjuntas, PR, 00601   \n",
       "2                 556G 556-G 16 St, Juana Diaz, PR, 00795   \n",
       "3       R5 Comunidad El Paraso Calle De Oro R-5 Ponce,...   \n",
       "4                         14 Navarro, Mayaguez, PR, 00680   \n",
       "...                                                   ...   \n",
       "203121                  1 Lowell Pl, Nantucket, MA, 02554   \n",
       "203122             35 Pine Crest Dr, Nantucket, MA, 02554   \n",
       "203123                    584 Main St, Chatham, MA, 02633   \n",
       "203124                 35 Whistler Ln, Chatham, MA, 02633   \n",
       "203125                   500 Shore Rd, Chatham, MA, 02633   \n",
       "\n",
       "                                               street        city  \\\n",
       "0                        Sector Yahuecas Titulo # V84    Adjuntas   \n",
       "1                                  Km 78 9 Carr # 135    Adjuntas   \n",
       "2                                    556G 556-G 16 St  Juana Diaz   \n",
       "3       R5 Comunidad El Paraso Calle De Oro R-5 Ponce       Ponce   \n",
       "4                                          14 Navarro    Mayaguez   \n",
       "...                                               ...         ...   \n",
       "203121                                    1 Lowell Pl   Nantucket   \n",
       "203122                               35 Pine Crest Dr   Nantucket   \n",
       "203123                                    584 Main St     Chatham   \n",
       "203124                                 35 Whistler Ln     Chatham   \n",
       "203125                                   500 Shore Rd     Chatham   \n",
       "\n",
       "                state  zip_code  house_size   sold_date  \n",
       "0         Puerto Rico     601.0       920.0         NaN  \n",
       "1         Puerto Rico     601.0      1527.0         NaN  \n",
       "2         Puerto Rico     795.0       748.0         NaN  \n",
       "3         Puerto Rico     731.0      1800.0         NaN  \n",
       "4         Puerto Rico     680.0         NaN         NaN  \n",
       "...               ...       ...         ...         ...  \n",
       "203121  Massachusetts    2554.0       700.0         NaN  \n",
       "203122  Massachusetts    2554.0      5302.0  1992-07-22  \n",
       "203123  Massachusetts    2633.0      2328.0         NaN  \n",
       "203124  Massachusetts    2633.0      2314.0         NaN  \n",
       "203125  Massachusetts    2633.0      3563.0         NaN  \n",
       "\n",
       "[203126 rows x 12 columns]>"
      ]
     },
     "execution_count": 3,
     "metadata": {},
     "output_type": "execute_result"
    }
   ],
   "source": [
    "data = pd.read_csv('realtor-data.csv')\n",
    "data.info()\n",
    "data.head"
   ]
  },
  {
   "cell_type": "code",
   "execution_count": 4,
   "id": "a9672f98",
   "metadata": {},
   "outputs": [],
   "source": [
    "X = data[['bath','acre_lot', 'house_size']]\n",
    "Y = data['state']"
   ]
  },
  {
   "cell_type": "code",
   "execution_count": 5,
   "id": "3e799225",
   "metadata": {},
   "outputs": [
    {
     "name": "stderr",
     "output_type": "stream",
     "text": [
      "C:\\Users\\saidu\\AppData\\Local\\Programs\\Python\\Python39\\lib\\site-packages\\pandas\\core\\frame.py:3678: SettingWithCopyWarning: \n",
      "A value is trying to be set on a copy of a slice from a DataFrame.\n",
      "Try using .loc[row_indexer,col_indexer] = value instead\n",
      "\n",
      "See the caveats in the documentation: https://pandas.pydata.org/pandas-docs/stable/user_guide/indexing.html#returning-a-view-versus-a-copy\n",
      "  self[col] = igetitem(value, i)\n"
     ]
    },
    {
     "data": {
      "text/html": [
       "<div>\n",
       "<style scoped>\n",
       "    .dataframe tbody tr th:only-of-type {\n",
       "        vertical-align: middle;\n",
       "    }\n",
       "\n",
       "    .dataframe tbody tr th {\n",
       "        vertical-align: top;\n",
       "    }\n",
       "\n",
       "    .dataframe thead th {\n",
       "        text-align: right;\n",
       "    }\n",
       "</style>\n",
       "<table border=\"1\" class=\"dataframe\">\n",
       "  <thead>\n",
       "    <tr style=\"text-align: right;\">\n",
       "      <th></th>\n",
       "      <th>bath</th>\n",
       "      <th>acre_lot</th>\n",
       "      <th>house_size</th>\n",
       "    </tr>\n",
       "  </thead>\n",
       "  <tbody>\n",
       "    <tr>\n",
       "      <th>0</th>\n",
       "      <td>2.0</td>\n",
       "      <td>0.12</td>\n",
       "      <td>920.00000</td>\n",
       "    </tr>\n",
       "    <tr>\n",
       "      <th>1</th>\n",
       "      <td>2.0</td>\n",
       "      <td>0.08</td>\n",
       "      <td>1527.00000</td>\n",
       "    </tr>\n",
       "    <tr>\n",
       "      <th>2</th>\n",
       "      <td>1.0</td>\n",
       "      <td>0.15</td>\n",
       "      <td>748.00000</td>\n",
       "    </tr>\n",
       "    <tr>\n",
       "      <th>3</th>\n",
       "      <td>2.0</td>\n",
       "      <td>0.10</td>\n",
       "      <td>1800.00000</td>\n",
       "    </tr>\n",
       "    <tr>\n",
       "      <th>4</th>\n",
       "      <td>2.0</td>\n",
       "      <td>0.05</td>\n",
       "      <td>2234.71629</td>\n",
       "    </tr>\n",
       "    <tr>\n",
       "      <th>...</th>\n",
       "      <td>...</td>\n",
       "      <td>...</td>\n",
       "      <td>...</td>\n",
       "    </tr>\n",
       "    <tr>\n",
       "      <th>203121</th>\n",
       "      <td>1.0</td>\n",
       "      <td>0.05</td>\n",
       "      <td>700.00000</td>\n",
       "    </tr>\n",
       "    <tr>\n",
       "      <th>203122</th>\n",
       "      <td>5.0</td>\n",
       "      <td>1.22</td>\n",
       "      <td>5302.00000</td>\n",
       "    </tr>\n",
       "    <tr>\n",
       "      <th>203123</th>\n",
       "      <td>1.0</td>\n",
       "      <td>0.08</td>\n",
       "      <td>2328.00000</td>\n",
       "    </tr>\n",
       "    <tr>\n",
       "      <th>203124</th>\n",
       "      <td>4.0</td>\n",
       "      <td>0.36</td>\n",
       "      <td>2314.00000</td>\n",
       "    </tr>\n",
       "    <tr>\n",
       "      <th>203125</th>\n",
       "      <td>4.0</td>\n",
       "      <td>0.91</td>\n",
       "      <td>3563.00000</td>\n",
       "    </tr>\n",
       "  </tbody>\n",
       "</table>\n",
       "<p>203126 rows × 3 columns</p>\n",
       "</div>"
      ],
      "text/plain": [
       "        bath  acre_lot  house_size\n",
       "0        2.0      0.12   920.00000\n",
       "1        2.0      0.08  1527.00000\n",
       "2        1.0      0.15   748.00000\n",
       "3        2.0      0.10  1800.00000\n",
       "4        2.0      0.05  2234.71629\n",
       "...      ...       ...         ...\n",
       "203121   1.0      0.05   700.00000\n",
       "203122   5.0      1.22  5302.00000\n",
       "203123   1.0      0.08  2328.00000\n",
       "203124   4.0      0.36  2314.00000\n",
       "203125   4.0      0.91  3563.00000\n",
       "\n",
       "[203126 rows x 3 columns]"
      ]
     },
     "execution_count": 5,
     "metadata": {},
     "output_type": "execute_result"
    }
   ],
   "source": [
    "from sklearn.impute import SimpleImputer\n",
    "imputer = SimpleImputer(strategy='mean', missing_values=np.nan)\n",
    "imputer = imputer.fit(X[['bath','acre_lot', 'house_size']])\n",
    "X[['bath','acre_lot', 'house_size']] = imputer.transform(X[['bath','acre_lot', 'house_size']])\n",
    "X"
   ]
  },
  {
   "cell_type": "code",
   "execution_count": 6,
   "id": "f8c09b60",
   "metadata": {},
   "outputs": [],
   "source": [
    "X_train, X_test, Y_train, Y_test = train_test_split(X, Y, test_size = 0.2)"
   ]
  },
  {
   "cell_type": "code",
   "execution_count": 7,
   "id": "8171ec67",
   "metadata": {},
   "outputs": [
    {
     "name": "stdout",
     "output_type": "stream",
     "text": [
      "(162500, 3)\n",
      "(40626, 3)\n",
      "(162500,)\n",
      "(40626,)\n"
     ]
    }
   ],
   "source": [
    "print(X_train.shape)\n",
    "print(X_test.shape)\n",
    "print(Y_train.shape)\n",
    "print(Y_test.shape)"
   ]
  },
  {
   "cell_type": "code",
   "execution_count": 8,
   "id": "1880f3d7",
   "metadata": {},
   "outputs": [
    {
     "name": "stdout",
     "output_type": "stream",
     "text": [
      "<class 'pandas.core.frame.DataFrame'>\n",
      "Int64Index: 162500 entries, 169872 to 57735\n",
      "Data columns (total 3 columns):\n",
      " #   Column      Non-Null Count   Dtype  \n",
      "---  ------      --------------   -----  \n",
      " 0   bath        162500 non-null  float64\n",
      " 1   acre_lot    162500 non-null  float64\n",
      " 2   house_size  162500 non-null  float64\n",
      "dtypes: float64(3)\n",
      "memory usage: 5.0 MB\n"
     ]
    },
    {
     "data": {
      "text/html": [
       "<div>\n",
       "<style scoped>\n",
       "    .dataframe tbody tr th:only-of-type {\n",
       "        vertical-align: middle;\n",
       "    }\n",
       "\n",
       "    .dataframe tbody tr th {\n",
       "        vertical-align: top;\n",
       "    }\n",
       "\n",
       "    .dataframe thead th {\n",
       "        text-align: right;\n",
       "    }\n",
       "</style>\n",
       "<table border=\"1\" class=\"dataframe\">\n",
       "  <thead>\n",
       "    <tr style=\"text-align: right;\">\n",
       "      <th></th>\n",
       "      <th>bath</th>\n",
       "      <th>acre_lot</th>\n",
       "      <th>house_size</th>\n",
       "    </tr>\n",
       "  </thead>\n",
       "  <tbody>\n",
       "    <tr>\n",
       "      <th>count</th>\n",
       "      <td>162500.000000</td>\n",
       "      <td>162500.000000</td>\n",
       "      <td>1.625000e+05</td>\n",
       "    </tr>\n",
       "    <tr>\n",
       "      <th>mean</th>\n",
       "      <td>2.618114</td>\n",
       "      <td>8.820203</td>\n",
       "      <td>2.237217e+03</td>\n",
       "    </tr>\n",
       "    <tr>\n",
       "      <th>std</th>\n",
       "      <td>2.646706</td>\n",
       "      <td>558.112854</td>\n",
       "      <td>4.233391e+03</td>\n",
       "    </tr>\n",
       "    <tr>\n",
       "      <th>min</th>\n",
       "      <td>1.000000</td>\n",
       "      <td>0.000000</td>\n",
       "      <td>1.000000e+02</td>\n",
       "    </tr>\n",
       "    <tr>\n",
       "      <th>25%</th>\n",
       "      <td>2.000000</td>\n",
       "      <td>0.190000</td>\n",
       "      <td>1.234000e+03</td>\n",
       "    </tr>\n",
       "    <tr>\n",
       "      <th>50%</th>\n",
       "      <td>2.620129</td>\n",
       "      <td>0.770000</td>\n",
       "      <td>1.981000e+03</td>\n",
       "    </tr>\n",
       "    <tr>\n",
       "      <th>75%</th>\n",
       "      <td>3.000000</td>\n",
       "      <td>8.730882</td>\n",
       "      <td>2.449000e+03</td>\n",
       "    </tr>\n",
       "    <tr>\n",
       "      <th>max</th>\n",
       "      <td>198.000000</td>\n",
       "      <td>100000.000000</td>\n",
       "      <td>1.450112e+06</td>\n",
       "    </tr>\n",
       "  </tbody>\n",
       "</table>\n",
       "</div>"
      ],
      "text/plain": [
       "                bath       acre_lot    house_size\n",
       "count  162500.000000  162500.000000  1.625000e+05\n",
       "mean        2.618114       8.820203  2.237217e+03\n",
       "std         2.646706     558.112854  4.233391e+03\n",
       "min         1.000000       0.000000  1.000000e+02\n",
       "25%         2.000000       0.190000  1.234000e+03\n",
       "50%         2.620129       0.770000  1.981000e+03\n",
       "75%         3.000000       8.730882  2.449000e+03\n",
       "max       198.000000  100000.000000  1.450112e+06"
      ]
     },
     "execution_count": 8,
     "metadata": {},
     "output_type": "execute_result"
    }
   ],
   "source": [
    "X_train.info()\n",
    "X_train.describe()"
   ]
  },
  {
   "cell_type": "code",
   "execution_count": 9,
   "id": "b764c662",
   "metadata": {},
   "outputs": [
    {
     "name": "stdout",
     "output_type": "stream",
     "text": [
      "<class 'pandas.core.frame.DataFrame'>\n",
      "Int64Index: 162500 entries, 169872 to 57735\n",
      "Data columns (total 3 columns):\n",
      " #   Column      Non-Null Count   Dtype  \n",
      "---  ------      --------------   -----  \n",
      " 0   bath        162500 non-null  float64\n",
      " 1   acre_lot    162500 non-null  float64\n",
      " 2   house_size  162500 non-null  float64\n",
      "dtypes: float64(3)\n",
      "memory usage: 5.0 MB\n"
     ]
    }
   ],
   "source": [
    "X_train.info()"
   ]
  },
  {
   "cell_type": "code",
   "execution_count": 10,
   "id": "159b7844",
   "metadata": {},
   "outputs": [
    {
     "data": {
      "text/html": [
       "<div>\n",
       "<style scoped>\n",
       "    .dataframe tbody tr th:only-of-type {\n",
       "        vertical-align: middle;\n",
       "    }\n",
       "\n",
       "    .dataframe tbody tr th {\n",
       "        vertical-align: top;\n",
       "    }\n",
       "\n",
       "    .dataframe thead th {\n",
       "        text-align: right;\n",
       "    }\n",
       "</style>\n",
       "<table border=\"1\" class=\"dataframe\">\n",
       "  <thead>\n",
       "    <tr style=\"text-align: right;\">\n",
       "      <th></th>\n",
       "      <th>bath</th>\n",
       "      <th>acre_lot</th>\n",
       "      <th>house_size</th>\n",
       "    </tr>\n",
       "  </thead>\n",
       "  <tbody>\n",
       "    <tr>\n",
       "      <th>169872</th>\n",
       "      <td>3.000000</td>\n",
       "      <td>0.320000</td>\n",
       "      <td>2275.00000</td>\n",
       "    </tr>\n",
       "    <tr>\n",
       "      <th>101337</th>\n",
       "      <td>2.000000</td>\n",
       "      <td>0.460000</td>\n",
       "      <td>1655.00000</td>\n",
       "    </tr>\n",
       "    <tr>\n",
       "      <th>14738</th>\n",
       "      <td>2.620129</td>\n",
       "      <td>0.850000</td>\n",
       "      <td>2234.71629</td>\n",
       "    </tr>\n",
       "    <tr>\n",
       "      <th>158072</th>\n",
       "      <td>2.000000</td>\n",
       "      <td>8.730882</td>\n",
       "      <td>1410.00000</td>\n",
       "    </tr>\n",
       "    <tr>\n",
       "      <th>152585</th>\n",
       "      <td>2.000000</td>\n",
       "      <td>8.730882</td>\n",
       "      <td>1265.00000</td>\n",
       "    </tr>\n",
       "    <tr>\n",
       "      <th>...</th>\n",
       "      <td>...</td>\n",
       "      <td>...</td>\n",
       "      <td>...</td>\n",
       "    </tr>\n",
       "    <tr>\n",
       "      <th>149439</th>\n",
       "      <td>3.000000</td>\n",
       "      <td>0.090000</td>\n",
       "      <td>1697.00000</td>\n",
       "    </tr>\n",
       "    <tr>\n",
       "      <th>51071</th>\n",
       "      <td>1.000000</td>\n",
       "      <td>0.820000</td>\n",
       "      <td>1008.00000</td>\n",
       "    </tr>\n",
       "    <tr>\n",
       "      <th>41760</th>\n",
       "      <td>1.000000</td>\n",
       "      <td>0.320000</td>\n",
       "      <td>1052.00000</td>\n",
       "    </tr>\n",
       "    <tr>\n",
       "      <th>103827</th>\n",
       "      <td>1.000000</td>\n",
       "      <td>8.730882</td>\n",
       "      <td>971.00000</td>\n",
       "    </tr>\n",
       "    <tr>\n",
       "      <th>57735</th>\n",
       "      <td>3.000000</td>\n",
       "      <td>0.650000</td>\n",
       "      <td>1320.00000</td>\n",
       "    </tr>\n",
       "  </tbody>\n",
       "</table>\n",
       "<p>162500 rows × 3 columns</p>\n",
       "</div>"
      ],
      "text/plain": [
       "            bath  acre_lot  house_size\n",
       "169872  3.000000  0.320000  2275.00000\n",
       "101337  2.000000  0.460000  1655.00000\n",
       "14738   2.620129  0.850000  2234.71629\n",
       "158072  2.000000  8.730882  1410.00000\n",
       "152585  2.000000  8.730882  1265.00000\n",
       "...          ...       ...         ...\n",
       "149439  3.000000  0.090000  1697.00000\n",
       "51071   1.000000  0.820000  1008.00000\n",
       "41760   1.000000  0.320000  1052.00000\n",
       "103827  1.000000  8.730882   971.00000\n",
       "57735   3.000000  0.650000  1320.00000\n",
       "\n",
       "[162500 rows x 3 columns]"
      ]
     },
     "execution_count": 10,
     "metadata": {},
     "output_type": "execute_result"
    }
   ],
   "source": [
    "from sklearn.impute import SimpleImputer\n",
    "imputer = SimpleImputer(strategy='mean', missing_values=np.nan)\n",
    "imputer = imputer.fit(X_train[['bath','acre_lot', 'house_size']])\n",
    "X_train[['bath','acre_lot', 'house_size']] = imputer.transform(X_train[['bath','acre_lot', 'house_size']])\n",
    "X_train"
   ]
  },
  {
   "cell_type": "code",
   "execution_count": 11,
   "id": "ea89da67",
   "metadata": {},
   "outputs": [],
   "source": [
    "Y_train = Y_train.fillna('N/A')"
   ]
  },
  {
   "cell_type": "code",
   "execution_count": 12,
   "id": "a0ec122c",
   "metadata": {},
   "outputs": [
    {
     "data": {
      "text/plain": [
       "array([[<AxesSubplot:xlabel='bath', ylabel='bath'>,\n",
       "        <AxesSubplot:xlabel='acre_lot', ylabel='bath'>,\n",
       "        <AxesSubplot:xlabel='house_size', ylabel='bath'>],\n",
       "       [<AxesSubplot:xlabel='bath', ylabel='acre_lot'>,\n",
       "        <AxesSubplot:xlabel='acre_lot', ylabel='acre_lot'>,\n",
       "        <AxesSubplot:xlabel='house_size', ylabel='acre_lot'>],\n",
       "       [<AxesSubplot:xlabel='bath', ylabel='house_size'>,\n",
       "        <AxesSubplot:xlabel='acre_lot', ylabel='house_size'>,\n",
       "        <AxesSubplot:xlabel='house_size', ylabel='house_size'>]],\n",
       "      dtype=object)"
      ]
     },
     "execution_count": 12,
     "metadata": {},
     "output_type": "execute_result"
    },
    {
     "data": {
      "image/png": "[encoded data removed]",
      "text/plain": [
       "<Figure size 432x288 with 9 Axes>"
      ]
     },
     "metadata": {
      "needs_background": "light"
     },
     "output_type": "display_data"
    }
   ],
   "source": [
    "X_train.hist\n",
    "pd.plotting.scatter_matrix(X_train)"
   ]
  },
  {
   "cell_type": "code",
   "execution_count": 13,
   "id": "6af64e55",
   "metadata": {},
   "outputs": [
    {
     "data": {
      "text/html": [
       "<div>\n",
       "<style scoped>\n",
       "    .dataframe tbody tr th:only-of-type {\n",
       "        vertical-align: middle;\n",
       "    }\n",
       "\n",
       "    .dataframe tbody tr th {\n",
       "        vertical-align: top;\n",
       "    }\n",
       "\n",
       "    .dataframe thead th {\n",
       "        text-align: right;\n",
       "    }\n",
       "</style>\n",
       "<table border=\"1\" class=\"dataframe\">\n",
       "  <thead>\n",
       "    <tr style=\"text-align: right;\">\n",
       "      <th></th>\n",
       "      <th>skew</th>\n",
       "      <th>kurtosis</th>\n",
       "    </tr>\n",
       "  </thead>\n",
       "  <tbody>\n",
       "    <tr>\n",
       "      <th>bath</th>\n",
       "      <td>44.819651</td>\n",
       "      <td>3146.376273</td>\n",
       "    </tr>\n",
       "    <tr>\n",
       "      <th>acre_lot</th>\n",
       "      <td>177.076764</td>\n",
       "      <td>31700.421462</td>\n",
       "    </tr>\n",
       "    <tr>\n",
       "      <th>house_size</th>\n",
       "      <td>249.277021</td>\n",
       "      <td>84265.490755</td>\n",
       "    </tr>\n",
       "  </tbody>\n",
       "</table>\n",
       "</div>"
      ],
      "text/plain": [
       "                  skew      kurtosis\n",
       "bath         44.819651   3146.376273\n",
       "acre_lot    177.076764  31700.421462\n",
       "house_size  249.277021  84265.490755"
      ]
     },
     "execution_count": 13,
     "metadata": {},
     "output_type": "execute_result"
    }
   ],
   "source": [
    "X_train.agg(['skew', 'kurtosis']).transpose()"
   ]
  },
  {
   "cell_type": "code",
   "execution_count": 14,
   "id": "630146f8",
   "metadata": {},
   "outputs": [],
   "source": [
    "from sklearn.preprocessing import StandardScaler\n",
    "scaler = StandardScaler()\n",
    "scaler.fit(X_train)\n",
    "\n",
    "X_train = scaler.transform(X_train)\n",
    "X_test = scaler.transform(X_test)"
   ]
  },
  {
   "cell_type": "code",
   "execution_count": 15,
   "id": "5721270e",
   "metadata": {},
   "outputs": [
    {
     "data": {
      "text/plain": [
       "KNeighborsClassifier()"
      ]
     },
     "execution_count": 15,
     "metadata": {},
     "output_type": "execute_result"
    }
   ],
   "source": [
    "from sklearn.neighbors import KNeighborsClassifier\n",
    "classifier = KNeighborsClassifier(n_neighbors=5)\n",
    "classifier.fit(X_train, Y_train)"
   ]
  },
  {
   "cell_type": "code",
   "execution_count": 16,
   "id": "c488dfff",
   "metadata": {},
   "outputs": [],
   "source": [
    "Y_pred = classifier.predict(X_test)"
   ]
  },
  {
   "cell_type": "code",
   "execution_count": 17,
   "id": "77c1061b",
   "metadata": {},
   "outputs": [
    {
     "name": "stdout",
     "output_type": "stream",
     "text": [
      "0.9019347216068527\n"
     ]
    }
   ],
   "source": [
    "from sklearn.metrics import accuracy_score\n",
    "print(accuracy_score(Y_test, Y_pred))"
   ]
  },
  {
   "cell_type": "code",
   "execution_count": null,
   "id": "b81d5f85",
   "metadata": {},
   "outputs": [
    {
     "name": "stderr",
     "output_type": "stream",
     "text": [
      "C:\\Users\\saidu\\AppData\\Local\\Programs\\Python\\Python39\\lib\\site-packages\\sklearn\\svm\\_base.py:1206: ConvergenceWarning: Liblinear failed to converge, increase the number of iterations.\n",
      "  warnings.warn(\n",
      "C:\\Users\\saidu\\AppData\\Local\\Programs\\Python\\Python39\\lib\\site-packages\\sklearn\\svm\\_base.py:1206: ConvergenceWarning: Liblinear failed to converge, increase the number of iterations.\n",
      "  warnings.warn(\n",
      "C:\\Users\\saidu\\AppData\\Local\\Programs\\Python\\Python39\\lib\\site-packages\\sklearn\\svm\\_base.py:1206: ConvergenceWarning: Liblinear failed to converge, increase the number of iterations.\n",
      "  warnings.warn(\n",
      "C:\\Users\\saidu\\AppData\\Local\\Programs\\Python\\Python39\\lib\\site-packages\\sklearn\\svm\\_base.py:1206: ConvergenceWarning: Liblinear failed to converge, increase the number of iterations.\n",
      "  warnings.warn(\n"
     ]
    }
   ],
   "source": [
    "from sklearn.metrics import precision_recall_curve\n",
    "from sklearn.metrics import average_precision_score\n",
    "from sklearn.pipeline import make_pipeline\n",
    "from sklearn.preprocessing import StandardScaler\n",
    "from sklearn.svm import LinearSVC\n",
    "\n",
    "from sklearn.multiclass import OneVsRestClassifier\n",
    "\n",
    "random_state = np.random.RandomState(0)\n",
    "classifier = OneVsRestClassifier(\n",
    "    make_pipeline(StandardScaler(), LinearSVC(random_state=random_state))\n",
    ")\n",
    "classifier.fit(X_train, Y_train)"
   ]
  },
  {
   "cell_type": "code",
   "execution_count": null,
   "id": "492a926e",
   "metadata": {},
   "outputs": [],
   "source": [
    "n_samples, n_features = X.shape\n",
    "Y_score = classifier.decision_function(X_test)\n",
    "precision = dict()\n",
    "recall = dict()\n",
    "average_precision = dict()\n",
    "for i in range(n_classes):\n",
    "    precision[i], recall[i], _ = precision_recall_curve(Y_test[:, i], Y_score[:, i])\n",
    "    average_precision[i] = average_precision_score(Y_test[:, i], Y_score[:, i])\n",
    "\n",
    "precision[\"micro\"], recall[\"micro\"], _ = precision_recall_curve(\n",
    "    Y_test.ravel(), Y_score.ravel()\n",
    ")\n",
    "average_precision[\"micro\"] = average_precision_score(Y_test, Y_score, average=\"micro\")\n",
    "\n",
    "display = PrecisionRecallDisplay(\n",
    "    recall=recall[\"micro\"],\n",
    "    precision=precision[\"micro\"],\n",
    "    average_precision=average_precision[\"micro\"],\n",
    ")\n",
    "display.plot()\n",
    "_ = display.ax_.set_title(\"Micro-averaged over all classes\")"
   ]
  },
  {
   "cell_type": "code",
   "execution_count": null,
   "id": "2f1307cc",
   "metadata": {},
   "outputs": [
    {
     "name": "stdout",
     "output_type": "stream",
     "text": [
      "Requirement already satisfied: pydotplus in c:\\users\\saidu\\appdata\\local\\programs\\python\\python39\\lib\\site-packages (2.0.2)\n",
      "Requirement already satisfied: pyparsing>=2.0.1 in c:\\users\\saidu\\appdata\\local\\programs\\python\\python39\\lib\\site-packages (from pydotplus) (3.0.4)\n"
     ]
    },
    {
     "name": "stderr",
     "output_type": "stream",
     "text": [
      "WARNING: You are using pip version 22.0.4; however, version 22.1.2 is available.\n",
      "You should consider upgrading via the 'C:\\Users\\saidu\\AppData\\Local\\Programs\\Python\\Python39\\python.exe -m pip install --upgrade pip' command.\n"
     ]
    }
   ],
   "source": [
    "from sklearn import tree\n",
    "!pip install pydotplus\n",
    "import pydotplus\n",
    "from sklearn.tree import DecisionTreeClassifier\n",
    "import matplotlib.pyplot as plt\n",
    "import matplotlib.image as pltimg\n",
    "\n",
    "dtree = DecisionTreeClassifier()\n",
    "dtree = dtree.fit(X, Y)\n",
    "data = tree.export_graphviz(dtree, out_file=None)\n",
    "graph = pydotplus.graph_from_dot_data(data)\n",
    "graph.write_png('mydecisiontree.png')\n",
    "\n",
    "img=pltimg.imread('mydecisiontree.png')\n",
    "imgplot = plt.imshow(img)\n",
    "plt.show()"
   ]
  },
  {
   "cell_type": "code",
   "execution_count": null,
   "id": "f7e8016e",
   "metadata": {},
   "outputs": [],
   "source": [
    "from sklearn.decomposition import PCA\n",
    "\n",
    "pca = PCA()\n",
    "X_train = pca.fit_transform(X_train)\n",
    "X_test = pca.transform(X_test)\n",
    "\n",
    "explained_variance = pca.explained_variance_ratio_"
   ]
  },
  {
   "cell_type": "code",
   "execution_count": null,
   "id": "891497d0",
   "metadata": {},
   "outputs": [],
   "source": [
    "from sklearn.ensemble import RandomForestClassifier\n",
    "\n",
    "classifier = RandomForestClassifier(max_depth=2, random_state=0)\n",
    "classifier.fit(X_train, y_train)\n",
    "\n",
    "y_pred = classifier.predict(X_test)\n",
    "\n",
    "from sklearn.metrics import confusion_matrix\n",
    "from sklearn.metrics import accuracy_score\n",
    "\n",
    "cm = confusion_matrix(y_test, y_pred)\n",
    "print(cm)\n",
    "print('Accuracy' + accuracy_score(y_test, y_pred))"
   ]
  },
  {
   "cell_type": "code",
   "execution_count": null,
   "id": "11329514",
   "metadata": {},
   "outputs": [],
   "source": [
    "import statsmodels.api as sm\n",
    "import matplotlib.pyplot as plt\n",
    "import seaborn as sns\n",
    "sns.set()\n",
    "from sklearn.cluster import KMeans\n",
    "\n",
    "wcss=[]\n",
    "for i in range():\n",
    "kmeans = KMeans(i)\n",
    "kmeans.fit(x)\n",
    "wcss_iter = kmeans.inertia_\n",
    "wcss.append(wcss_iter)\n",
    "\n",
    "number_clusters = range()\n",
    "plt.plot(number_clusters,wcss)\n",
    "plt.title('The Elbow title')\n",
    "plt.xlabel('Number of clusters')\n",
    "plt.ylabel('WCSS')"
   ]
  },
  {
   "cell_type": "code",
   "execution_count": null,
   "id": "b649e4fd",
   "metadata": {},
   "outputs": [],
   "source": [
    "from sklearn.decomposition import PCA\n",
    "from sklearn.cluster import AgglomerativeClustering\n",
    "from sklearn.preprocessing import StandardScaler, normalize\n",
    "from sklearn.metrics import silhouette_score\n",
    "import scipy.cluster.hierarchy as shc\n",
    "\n",
    "pca = PCA(n_components = 2)\n",
    "X_principal = pca.fit_transform(X_normalized)\n",
    "X_principal = pd.DataFrame(X_principal)\n",
    "X_principal.columns = ['P1', 'P2']\n",
    "\n",
    "plt.figure(figsize =(10, 10))\n",
    "plt.title('Visualising the data')\n",
    "Dendrogram = shc.dendrogram((shc.linkage(X_principal, method ='ward')))\n",
    "\n",
    "ac3 = AgglomerativeClustering(n_clusters = 3)\n",
    " \n",
    "plt.figure(figsize =(5, 5))\n",
    "plt.scatter(X_principal['P1'], X_principal['P2'],\n",
    "           c = ac3.fit_predict(X_principal), cmap ='rainbow')\n",
    "plt.show()\n",
    "\n",
    "silhouette_scores = []\n",
    "silhouette_scores.append(\n",
    "        silhouette_score(X_principal, ac2.fit_predict(X_principal)))\n",
    "silhouette_scores.append(\n",
    "        silhouette_score(X_principal, ac3.fit_predict(X_principal)))\n",
    "silhouette_scores.append(\n",
    "        silhouette_score(X_principal, ac4.fit_predict(X_principal)))\n",
    "silhouette_scores.append(\n",
    "        silhouette_score(X_principal, ac5.fit_predict(X_principal)))\n",
    "silhouette_scores.append(\n",
    "        silhouette_score(X_principal, ac6.fit_predict(X_principal)))\n",
    " \n",
    "# Plotting a bar graph to compare the results\n",
    "plt.bar(k, silhouette_scores)\n",
    "plt.xlabel('Number of clusters', fontsize = 20)\n",
    "plt.ylabel('S(i)', fontsize = 20)\n",
    "plt.show()"
   ]
  },
  {
   "cell_type": "code",
   "execution_count": null,
   "id": "9d32934e",
   "metadata": {},
   "outputs": [],
   "source": []
  }
 ],
 "metadata": {
  "kernelspec": {
   "display_name": "Python 3 (ipykernel)",
   "language": "python",
   "name": "python3"
  },
  "language_info": {
   "codemirror_mode": {
    "name": "ipython",
    "version": 3
   },
   "file_extension": ".py",
   "mimetype": "text/x-python",
   "name": "python",
   "nbconvert_exporter": "python",
   "pygments_lexer": "ipython3",
   "version": "3.9.8"
  }
 },
 "nbformat": 4,
 "nbformat_minor": 5
}
