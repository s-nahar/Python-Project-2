{
 "cells": [
  {
   "cell_type": "code",
   "execution_count": null,
   "id": "9344b153",
   "metadata": {},
   "outputs": [],
   "source": [
    "import pandas as pd\n",
    "import numpy as np"
   ]
  },
  {
   "cell_type": "code",
   "execution_count": null,
   "id": "bc3122e2",
   "metadata": {},
   "outputs": [],
   "source": [
    "import sklearn\n",
    "from sklearn.model_selection import train_test_split"
   ]
  },
  {
   "cell_type": "code",
   "execution_count": null,
   "id": "8d3ad358",
   "metadata": {},
   "outputs": [],
   "source": [
    "data = pd.read_csv('realtor-data.csv')\n",
    "data.info()\n",
    "data.head"
   ]
  },
  {
   "cell_type": "code",
   "execution_count": null,
   "id": "a9672f98",
   "metadata": {},
   "outputs": [],
   "source": [
    "X = data[['bath','acre_lot', 'house_size']]\n",
    "Y = data['state']"
   ]
  },
  {
   "cell_type": "code",
   "execution_count": null,
   "id": "3e799225",
   "metadata": {},
   "outputs": [],
   "source": [
    "from sklearn.impute import SimpleImputer\n",
    "imputer = SimpleImputer(strategy='mean', missing_values=np.nan)\n",
    "imputer = imputer.fit(X[['bath','acre_lot', 'house_size']])\n",
    "X[['bath','acre_lot', 'house_size']] = imputer.transform(X[['bath','acre_lot', 'house_size']])\n",
    "X"
   ]
  },
  {
   "cell_type": "code",
   "execution_count": null,
   "id": "f8c09b60",
   "metadata": {},
   "outputs": [],
   "source": [
    "X_train, X_test, Y_train, Y_test = train_test_split(X, Y, test_size = 0.2)"
   ]
  },
  {
   "cell_type": "code",
   "execution_count": null,
   "id": "8171ec67",
   "metadata": {},
   "outputs": [],
   "source": [
    "print(X_train.shape)\n",
    "print(X_test.shape)\n",
    "print(Y_train.shape)\n",
    "print(Y_test.shape)"
   ]
  },
  {
   "cell_type": "code",
   "execution_count": null,
   "id": "1880f3d7",
   "metadata": {},
   "outputs": [],
   "source": [
    "X_train.info()\n",
    "X_train.describe()"
   ]
  },
  {
   "cell_type": "code",
   "execution_count": null,
   "id": "b764c662",
   "metadata": {},
   "outputs": [],
   "source": [
    "X_train.info()"
   ]
  },
  {
   "cell_type": "code",
   "execution_count": null,
   "id": "159b7844",
   "metadata": {},
   "outputs": [],
   "source": [
    "from sklearn.impute import SimpleImputer\n",
    "imputer = SimpleImputer(strategy='mean', missing_values=np.nan)\n",
    "imputer = imputer.fit(X_train[['bath','acre_lot', 'house_size']])\n",
    "X_train[['bath','acre_lot', 'house_size']] = imputer.transform(X_train[['bath','acre_lot', 'house_size']])\n",
    "X_train"
   ]
  },
  {
   "cell_type": "code",
   "execution_count": null,
   "id": "fcd316f8",
   "metadata": {},
   "outputs": [],
   "source": [
    "Y_train = Y_train.fillna('N/A')"
   ]
  },
  {
   "cell_type": "code",
   "execution_count": null,
   "id": "a0ec122c",
   "metadata": {},
   "outputs": [],
   "source": [
    "X_train.hist\n",
    "pd.plotting.scatter_matrix(X_train)"
   ]
  },
  {
   "cell_type": "code",
   "execution_count": null,
   "id": "6af64e55",
   "metadata": {},
   "outputs": [],
   "source": [
    "X_train.agg(['skew', 'kurtosis']).transpose()"
   ]
  },
  {
   "cell_type": "code",
   "execution_count": null,
   "id": "630146f8",
   "metadata": {},
   "outputs": [],
   "source": [
    "from sklearn.preprocessing import StandardScaler\n",
    "scaler = StandardScaler()\n",
    "scaler.fit(X_train)\n",
    "\n",
    "X_train = scaler.transform(X_train)\n",
    "X_test = scaler.transform(X_test)"
   ]
  },
  {
   "cell_type": "code",
   "execution_count": null,
   "id": "5721270e",
   "metadata": {},
   "outputs": [],
   "source": [
    "from sklearn.neighbors import KNeighborsClassifier\n",
    "classifier = KNeighborsClassifier(n_neighbors=5)\n",
    "classifier.fit(X_train, Y_train)"
   ]
  },
  {
   "cell_type": "code",
   "execution_count": null,
   "id": "c488dfff",
   "metadata": {},
   "outputs": [],
   "source": [
    "Y_pred = classifier.predict(X_test)"
   ]
  },
  {
   "cell_type": "code",
   "execution_count": null,
   "id": "77c1061b",
   "metadata": {},
   "outputs": [],
   "source": [
    "from sklearn.metrics import accuracy_score\n",
    "print(accuracy_score(Y_test, Y_pred))"
   ]
  },
  {
   "cell_type": "code",
   "execution_count": null,
   "id": "2f1307cc",
   "metadata": {},
   "outputs": [],
   "source": [
    "from sklearn import tree\n",
    "!pip install pydotplus\n",
    "import pydotplus\n",
    "from sklearn.tree import DecisionTreeClassifier\n",
    "import matplotlib.pyplot as plt\n",
    "import matplotlib.image as pltimg\n",
    "\n",
    "dtree = DecisionTreeClassifier()\n",
    "dtree = dtree.fit(X, Y)\n",
    "data = tree.export_graphviz(dtree, out_file=None)\n",
    "graph = pydotplus.graph_from_dot_data(data)\n",
    "graph.write_png('mydecisiontree.png')\n",
    "\n",
    "img=pltimg.imread('mydecisiontree.png')\n",
    "imgplot = plt.imshow(img)\n",
    "plt.show()"
   ]
  },
  {
   "cell_type": "code",
   "execution_count": null,
   "id": "a0b25519",
   "metadata": {},
   "outputs": [],
   "source": [
    "from sklearn.linear_model import LogisticRegression\n",
    "from sklearn.metrics import precision_recall_curve\n",
    "from sklearn.metrics import plot_precision_recall_curve\n",
    "from sklearn.metrics import precision_score\n",
    "from sklearn.metrics import recall_score\n",
    "import matplotlib.pyplot as plt\n",
    "  \n",
    "model = LogisticRegression()\n",
    "model.fit(X_train, Y_train)\n",
    " \n",
    "pred = model.predict(X_test)\n",
    " \n",
    "precision = precision_score(Y_test, pred, average='micro')\n",
    "recall = recall_score(Y_test, pred)\n",
    " \n",
    "print('Precision: ',precision)\n",
    "print('Recall: ',recall)\n",
    " \n",
    "disp = plot_precision_recall_curve(model, X_test, Y_test)"
   ]
  },
  {
   "cell_type": "code",
   "execution_count": null,
   "id": "f7e8016e",
   "metadata": {},
   "outputs": [],
   "source": [
    "from sklearn.decomposition import PCA\n",
    "\n",
    "pca = PCA()\n",
    "X_train = pca.fit_transform(X_train)\n",
    "X_test = pca.transform(X_test)\n",
    "\n",
    "explained_variance = pca.explained_variance_ratio_"
   ]
  },
  {
   "cell_type": "code",
   "execution_count": null,
   "id": "891497d0",
   "metadata": {},
   "outputs": [],
   "source": [
    "from sklearn.ensemble import RandomForestClassifier\n",
    "\n",
    "classifier = RandomForestClassifier(max_depth=2, random_state=0)\n",
    "classifier.fit(X_train, Y_train)\n",
    "\n",
    "y_pred = classifier.predict(X_test)\n",
    "\n",
    "from sklearn.metrics import confusion_matrix\n",
    "from sklearn.metrics import accuracy_score\n",
    "\n",
    "cm = confusion_matrix(y_test, y_pred)\n",
    "print(cm)\n",
    "print('Accuracy' + accuracy_score(y_test, y_pred))"
   ]
  },
  {
   "cell_type": "code",
   "execution_count": null,
   "id": "11329514",
   "metadata": {},
   "outputs": [],
   "source": [
    "import statsmodels.api as sm\n",
    "import matplotlib.pyplot as plt\n",
    "import seaborn as sns\n",
    "sns.set()\n",
    "from sklearn.cluster import KMeans\n",
    "\n",
    "wcss=[]\n",
    "for i in range():\n",
    "kmeans = KMeans(i)\n",
    "kmeans.fit(x)\n",
    "wcss_iter = kmeans.inertia_\n",
    "wcss.append(wcss_iter)\n",
    "\n",
    "number_clusters = range()\n",
    "plt.plot(number_clusters,wcss)\n",
    "plt.title('The Elbow title')\n",
    "plt.xlabel('Number of clusters')\n",
    "plt.ylabel('WCSS')"
   ]
  },
  {
   "cell_type": "code",
   "execution_count": null,
   "id": "b649e4fd",
   "metadata": {},
   "outputs": [],
   "source": [
    "from sklearn.decomposition import PCA\n",
    "from sklearn.cluster import AgglomerativeClustering\n",
    "from sklearn.preprocessing import StandardScaler, normalize\n",
    "from sklearn.metrics import silhouette_score\n",
    "import scipy.cluster.hierarchy as shc\n",
    "\n",
    "pca = PCA(n_components = 2)\n",
    "X_principal = pca.fit_transform(X_normalized)\n",
    "X_principal = pd.DataFrame(X_principal)\n",
    "X_principal.columns = ['P1', 'P2']\n",
    "\n",
    "plt.figure(figsize =(10, 10))\n",
    "plt.title('Visualising the data')\n",
    "Dendrogram = shc.dendrogram((shc.linkage(X_principal, method ='ward')))\n",
    "\n",
    "ac3 = AgglomerativeClustering(n_clusters = 3)\n",
    " \n",
    "plt.figure(figsize =(5, 5))\n",
    "plt.scatter(X_principal['P1'], X_principal['P2'],\n",
    "           c = ac3.fit_predict(X_principal), cmap ='rainbow')\n",
    "plt.show()\n",
    "\n",
    "silhouette_scores = []\n",
    "silhouette_scores.append(\n",
    "        silhouette_score(X_principal, ac2.fit_predict(X_principal)))\n",
    "silhouette_scores.append(\n",
    "        silhouette_score(X_principal, ac3.fit_predict(X_principal)))\n",
    "silhouette_scores.append(\n",
    "        silhouette_score(X_principal, ac4.fit_predict(X_principal)))\n",
    "silhouette_scores.append(\n",
    "        silhouette_score(X_principal, ac5.fit_predict(X_principal)))\n",
    "silhouette_scores.append(\n",
    "        silhouette_score(X_principal, ac6.fit_predict(X_principal)))\n",
    " \n",
    "# Plotting a bar graph to compare the results\n",
    "plt.bar(k, silhouette_scores)\n",
    "plt.xlabel('Number of clusters', fontsize = 20)\n",
    "plt.ylabel('S(i)', fontsize = 20)\n",
    "plt.show()"
   ]
  }
 ],
 "metadata": {
  "kernelspec": {
   "display_name": "Python 3 (ipykernel)",
   "language": "python",
   "name": "python3"
  },
  "language_info": {
   "codemirror_mode": {
    "name": "ipython",
    "version": 3
   },
   "file_extension": ".py",
   "mimetype": "text/x-python",
   "name": "python",
   "nbconvert_exporter": "python",
   "pygments_lexer": "ipython3",
   "version": "3.9.8"
  }
 },
 "nbformat": 4,
 "nbformat_minor": 5
}
